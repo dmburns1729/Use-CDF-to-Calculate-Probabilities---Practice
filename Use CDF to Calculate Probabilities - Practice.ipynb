{
 "cells": [
  {
   "cell_type": "markdown",
   "id": "9b9f3181",
   "metadata": {},
   "source": [
    "# Use CDF to Calculate Probabilities (Practice)"
   ]
  },
  {
   "cell_type": "markdown",
   "id": "fb8df11f",
   "metadata": {},
   "source": [
    "We will use the human height data set:\n",
    "\n",
    "Use the normal cumulative distribution function with the mean and standard deviation of female height to calculate the probability that a female's height is:\n",
    "\n",
    "1. between 55.0 and 56.0 inches\n",
    "\n",
    "2. is less than 5 feet (60 in)\n",
    "\n",
    "3. is greater than the mean (hint: do you know this answer intuitively?)\n",
    "\n",
    "\n",
    "\n",
    "Save your code to your Github repository and submit the link\n",
    "\n"
   ]
  },
  {
   "cell_type": "code",
   "execution_count": 1,
   "id": "d260638f",
   "metadata": {},
   "outputs": [],
   "source": [
    "#Imports\n",
    "import pandas as pd\n",
    "import numpy as np\n",
    "import matplotlib.pyplot as plt\n",
    "import seaborn as sns\n",
    "import scipy.stats as stats"
   ]
  },
  {
   "cell_type": "code",
   "execution_count": 2,
   "id": "fca9ce01",
   "metadata": {},
   "outputs": [],
   "source": [
    "df = pd.read_csv('https://docs.google.com/spreadsheets/d/e/2PACX-1vRxp-hsw61ck9cpt5ExZIUhvSGT5zYzoUJl_7xr7YF5qZeazC8393q2taqwkDvMxVirgFDJm1WX3uAC/pub?output=csv')\n",
    "males = df.loc[ df['Gender'] == 'Male'].copy()\n",
    "females = df.loc[ df['Gender'] == 'Female'].copy()"
   ]
  },
  {
   "cell_type": "code",
   "execution_count": 3,
   "id": "24198e94",
   "metadata": {},
   "outputs": [],
   "source": [
    "data = females['Height']"
   ]
  },
  {
   "cell_type": "code",
   "execution_count": 4,
   "id": "d263160c",
   "metadata": {},
   "outputs": [],
   "source": [
    "mean = np.mean(data)\n",
    "std = np.std(data)\n",
    "min = np.min(data)\n",
    "max = np.max(data)"
   ]
  },
  {
   "cell_type": "code",
   "execution_count": 5,
   "id": "db4e176c",
   "metadata": {},
   "outputs": [],
   "source": [
    "# Set the range and spacing for our normal curve\n",
    "x_range = np.linspace(min, max,1000)"
   ]
  },
  {
   "cell_type": "code",
   "execution_count": 6,
   "id": "d254a21e",
   "metadata": {},
   "outputs": [],
   "source": [
    "pdf = stats.norm.pdf(x_range, loc=mean, scale=std)"
   ]
  },
  {
   "cell_type": "code",
   "execution_count": 7,
   "id": "993bca92",
   "metadata": {},
   "outputs": [
    {
     "data": {
      "text/plain": [
       "0.0015043054289559897"
      ]
     },
     "execution_count": 7,
     "metadata": {},
     "output_type": "execute_result"
    }
   ],
   "source": [
    "stats.norm.cdf(56, loc=mean,scale=std) - stats.norm.cdf(55,loc=mean, scale=std)"
   ]
  },
  {
   "cell_type": "code",
   "execution_count": 8,
   "id": "6468c932",
   "metadata": {},
   "outputs": [
    {
     "data": {
      "text/plain": [
       "0.08446492725207488"
      ]
     },
     "execution_count": 8,
     "metadata": {},
     "output_type": "execute_result"
    }
   ],
   "source": [
    "stats.norm.cdf(60, loc=mean,scale=std)"
   ]
  },
  {
   "cell_type": "markdown",
   "id": "33b080df",
   "metadata": {},
   "source": [
    "More than the mean is by definition going to be 50%"
   ]
  },
  {
   "cell_type": "code",
   "execution_count": 9,
   "id": "fe84cb61",
   "metadata": {},
   "outputs": [
    {
     "data": {
      "text/plain": [
       "0.5"
      ]
     },
     "execution_count": 9,
     "metadata": {},
     "output_type": "execute_result"
    }
   ],
   "source": [
    "1-stats.norm.cdf(mean, loc=mean,scale=std)"
   ]
  }
 ],
 "metadata": {
  "kernelspec": {
   "display_name": "Python (dojo-env)",
   "language": "python",
   "name": "dojo-env"
  },
  "language_info": {
   "codemirror_mode": {
    "name": "ipython",
    "version": 3
   },
   "file_extension": ".py",
   "mimetype": "text/x-python",
   "name": "python",
   "nbconvert_exporter": "python",
   "pygments_lexer": "ipython3",
   "version": "3.9.15"
  },
  "toc": {
   "base_numbering": 1,
   "nav_menu": {},
   "number_sections": false,
   "sideBar": true,
   "skip_h1_title": false,
   "title_cell": "Table of Contents",
   "title_sidebar": "Contents",
   "toc_cell": false,
   "toc_position": {},
   "toc_section_display": true,
   "toc_window_display": false
  }
 },
 "nbformat": 4,
 "nbformat_minor": 5
}
